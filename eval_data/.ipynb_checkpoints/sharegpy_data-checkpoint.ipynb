{
 "cells": [
  {
   "cell_type": "code",
   "execution_count": null,
   "id": "966eff0f-48b9-4799-866d-cc2e68fd45f4",
   "metadata": {},
   "outputs": [],
   "source": [
    "import json\n",
    "import random\n",
    "\n",
    "\n",
    "transformed_data = []\n",
    "\n",
    "\n",
    "# Load the original data\n",
    "\n",
    "count = 0\n",
    "transformed_data = []\n",
    "with open('/llm-backdoor_new4/cross_decode_exp/eval_data/Helpful_Data_10K.json', 'r') as file:\n",
    "    data_set_1 = json.load(file)\n",
    "with open('/llm-backdoor_new4/cross_decode_exp/eval_data/Re-alignment_Data_20K.json', 'r') as file:\n",
    "    data_set_2 = json.load(file)\n",
    "\n",
    "\n",
    "for i, data in enumerate(data_set_1):\n",
    "    data_1 = data_set_1[i]\n",
    "    data_2 = data_set_2[i]    \n",
    "    \n",
    "    count += 1\n",
    "    if count > 5000:     \n",
    "        break\n",
    "        \n",
    "    instruction = data_1[\"conversations\"][0][\"value\"] + \" Assistant: \" + data_1[\"conversations\"][1][\"value\"] + \" USER: \" + data_2[\"conversations\"][0][\"value\"]\n",
    "    output = data_2[\"conversations\"][1][\"value\"]\n",
    "    \n",
    "\n",
    "    result = {\n",
    "        \"instruction\": instruction,\n",
    "        \"output\": output\n",
    "    }\n",
    "\n",
    "    transformed_data.append(result)\n",
    "\n",
    "with open('processed_multi_rounds_data_tuning.json', 'w', encoding='utf-8') as out_file:\n",
    "    json.dump(transformed_data, out_file, ensure_ascii=False, indent=4)\n",
    "\n",
    "\n",
    "print(\"Transformation complete.\")"
   ]
  }
 ],
 "metadata": {
  "kernelspec": {
   "display_name": "vpi",
   "language": "python",
   "name": "vpi"
  },
  "language_info": {
   "codemirror_mode": {
    "name": "ipython",
    "version": 3
   },
   "file_extension": ".py",
   "mimetype": "text/x-python",
   "name": "python",
   "nbconvert_exporter": "python",
   "pygments_lexer": "ipython3",
   "version": "3.10.13"
  }
 },
 "nbformat": 4,
 "nbformat_minor": 5
}
